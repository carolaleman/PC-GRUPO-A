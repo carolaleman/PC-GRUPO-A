{
 "cells": [
  {
   "cell_type": "code",
   "execution_count": 30,
   "metadata": {},
   "outputs": [
    {
     "name": "stdout",
     "output_type": "stream",
     "text": [
      "<Response [401]>\n"
     ]
    }
   ],
   "source": [
    "###Hacemos la comprobacion de si tenemos acceso o no al url\n",
    "import requests\n",
    "response = requests.get(\"https://imdb-internet-movie-database-unofficial.p.rapidapi.com/search/inception\")\n",
    "print(response)"
   ]
  },
  {
   "cell_type": "code",
   "execution_count": 31,
   "metadata": {},
   "outputs": [
    {
     "name": "stdout",
     "output_type": "stream",
     "text": [
      "Request returned an error.\n"
     ]
    }
   ],
   "source": [
    "if response:\n",
    "  print('Request is successful.')\n",
    "else:\n",
    "  print('Request returned an error.')"
   ]
  },
  {
   "cell_type": "code",
   "execution_count": 35,
   "metadata": {},
   "outputs": [
    {
     "name": "stdout",
     "output_type": "stream",
     "text": [
      "{\"id\":\"tt0086250\",\"title\":\"Scarface\\u00a0\",\"year\":\"1983\",\"length\":\"2h 50min\",\"rating\":\"8.3\",\"rating_votes\":\"690781\",\"poster\":\"https:\\/\\/m.media-amazon.com\\/images\\/M\\/MV5BNjdjNGQ4NDEtNTEwYS00MTgxLTliYzQtYzE2ZDRiZjFhZmNlXkEyXkFqcGdeQXVyNjU0OTQ0OTY@.jpg\",\"plot\":\"In 1980 Miami, a determined Cuban immigrant takes over a drug cartel and succumbs to greed.\",\"trailer\":{\"id\":\"vi3939802137\",\"link\":\"https:\\/\\/www.imdb.com\\/videoplayer\\/vi3939802137\"},\"cast\":[{\"actor\":\"Al Pacino\",\"actor_id\":\"nm0000199\",\"character\":\"Tony Montana\"},{\"actor\":\"Steven Bauer\",\"actor_id\":\"nm0000874\",\"character\":\"Manny Ribera\"},{\"actor\":\"Michelle Pfeiffer\",\"actor_id\":\"nm0000201\",\"character\":\"Elvira\"},{\"actor\":\"Mary Elizabeth Mastrantonio\",\"actor_id\":\"nm0001512\",\"character\":\"Gina\"},{\"actor\":\"Robert Loggia\",\"actor_id\":\"nm0005162\",\"character\":\"Frank Lopez\"},{\"actor\":\"Miriam Colon\",\"actor_id\":\"nm0173125\",\"character\":\"Mama Montana\"},{\"actor\":\"F. Murray Abraham\",\"actor_id\":\"nm0000719\",\"character\":\"Omar\"},{\"actor\":\"Paul Shenar\",\"actor_id\":\"nm0791502\",\"character\":\"Alejandro Sosa\"},{\"actor\":\"Harris Yulin\",\"actor_id\":\"nm0950867\",\"character\":\"Bernstein\"},{\"actor\":\"\\u00c1ngel Salazar\",\"actor_id\":\"nm0757774\",\"character\":\"Chi Chi\"},{\"actor\":\"Arnaldo Santana\",\"actor_id\":\"nm0763274\",\"character\":\"Ernie\"},{\"actor\":\"Pepe Serna\",\"actor_id\":\"nm0785277\",\"character\":\"Angel\"},{\"actor\":\"Michael P. Moran\",\"actor_id\":\"nm0602930\",\"character\":\"Nick The Pig\"},{\"actor\":\"Al Israel\",\"actor_id\":\"nm0411436\",\"character\":\"Hector The Toad\"},{\"actor\":\"Dennis Holahan\",\"actor_id\":\"nm0389971\",\"character\":\"Banker\"}],\"technical_specs\":[[\"Runtime\",\"2 hr 50 min (170 min) <br> 2 hr 22 min (142 min) (TV)\"],[\"Sound Mix\",\"4-Track Stereo (original release) | DTS (Blu-ray release) (DTS-HD Master Audio 7.1) | DTS (DTS: X)\"],[\"Color\",\"Color (Technicolor)\"],[\"Aspect Ratio\",\"2.39 : 1\"],[\"Camera\",\"Panavision Cameras and Lenses\"],[\"Laboratory\",\"Technicolor, Hollywood (CA), USA\"],[\"Film Length\",\"4,668 m (Sweden)\"],[\"Negative Format\",\"35 mm (Eastman 250T 5293)\"],[\"Cinematographic Process\",\"Spherical (opening sequence) <br> Panavision (anamorphic)\"],[\"Printed Film Format\",\"35 mm (Eastman 5384)\"]]}\n"
     ]
    }
   ],
   "source": [
    "import requests\n",
    "\n",
    "url = \"https://imdb-internet-movie-database-unofficial.p.rapidapi.com/film/scarface\"\n",
    "\n",
    "headers = {\n",
    "    'x-rapidapi-key': \"adf37987c2mshca6e29f937592dcp19fe7cjsna9f725d0c3a8\",\n",
    "    'x-rapidapi-host': \"imdb-internet-movie-database-unofficial.p.rapidapi.com\"\n",
    "    }\n",
    "\n",
    "response = requests.request(\"GET\", url, headers=headers)\n",
    "\n",
    "print(response.text)"
   ]
  },
  {
   "cell_type": "code",
   "execution_count": 36,
   "metadata": {},
   "outputs": [
    {
     "name": "stdout",
     "output_type": "stream",
     "text": [
      "{\"id\":\"tt0068646\",\"title\":\"The Godfather\\u00a0\",\"year\":\"1972\",\"length\":\"2h 55min\",\"rating\":\"9.2\",\"rating_votes\":\"1500534\",\"poster\":\"https:\\/\\/m.media-amazon.com\\/images\\/M\\/MV5BM2MyNjYxNmUtYTAwNi00MTYxLWJmNWYtYzZlODY3ZTk3OTFlXkEyXkFqcGdeQXVyNzkwMjQ5NzM@.jpg\",\"plot\":\"The aging patriarch of an organized crime dynasty transfers control of his clandestine empire to his reluctant son.\",\"trailer\":{\"id\":\"vi1348706585\",\"link\":\"https:\\/\\/www.imdb.com\\/videoplayer\\/vi1348706585\"},\"cast\":[{\"actor\":\"Marlon Brando\",\"actor_id\":\"nm0000008\",\"character\":\"Don Vito Corleone\"},{\"actor\":\"Al Pacino\",\"actor_id\":\"nm0000199\",\"character\":\"Michael Corleone\"},{\"actor\":\"James Caan\",\"actor_id\":\"nm0001001\",\"character\":\"Sonny Corleone\"},{\"actor\":\"Richard S. Castellano\",\"actor_id\":\"nm0144710\",\"character\":\"Clemenza\"},{\"actor\":\"Robert Duvall\",\"actor_id\":\"nm0000380\",\"character\":\"Tom Hagen\"},{\"actor\":\"Sterling Hayden\",\"actor_id\":\"nm0001330\",\"character\":\"Capt. McCluskey\"},{\"actor\":\"John Marley\",\"actor_id\":\"nm0549134\",\"character\":\"Jack Woltz\"},{\"actor\":\"Richard Conte\",\"actor_id\":\"nm0002017\",\"character\":\"Barzini\"},{\"actor\":\"Al Lettieri\",\"actor_id\":\"nm0504803\",\"character\":\"Sollozzo\"},{\"actor\":\"Diane Keaton\",\"actor_id\":\"nm0000473\",\"character\":\"Kay Adams\"},{\"actor\":\"Abe Vigoda\",\"actor_id\":\"nm0001820\",\"character\":\"Tessio\"},{\"actor\":\"Talia Shire\",\"actor_id\":\"nm0001735\",\"character\":\"Connie\"},{\"actor\":\"Gianni Russo\",\"actor_id\":\"nm0751625\",\"character\":\"Carlo\"},{\"actor\":\"John Cazale\",\"actor_id\":\"nm0001030\",\"character\":\"Fredo\"},{\"actor\":\"Rudy Bond\",\"actor_id\":\"nm0094036\",\"character\":\"Cuneo\"}],\"technical_specs\":[[\"Runtime\",\"2 hr 55 min (175 min)\"],[\"Sound Mix\",\"DTS (re-release) | Mono\"],[\"Color\",\"Color (Technicolor)\"],[\"Aspect Ratio\",\"1.37 : 1 (negative ratio) <br> 1.85 : 1 (theatrical ratio)\"],[\"Camera\",\"Mitchell BNCR, Bausch & Lomb Super Baltar Lenses\"],[\"Laboratory\",\"Technicolor S.p.a., Roma, Italy <br> Technicolor, Hollywood (CA), USA (prints)\"],[\"Film Length\",\"177 m <br> 4,803.8 m <br> 1,069 m (8 mm) <br> 4,810 m (Sweden)\"],[\"Negative Format\",\"35 mm (Eastman 100T 5254)\"],[\"Cinematographic Process\",\"Digital Intermediate (4K) (2008 Restoration) <br> Spherical\"],[\"Printed Film Format\",\"35 mm (Technicolor dye transfer print) <br> 70 mm (horizontal) (IMAX blow-up) (Kodak Vision 2383) (Blow-up, Japan) <br> 70mm Blow-up (Japan) <br> Technicolor Dye Transfer prints <br> 8 mm\"]]}\n"
     ]
    }
   ],
   "source": [
    "import requests\n",
    "\n",
    "url = \"https://imdb-internet-movie-database-unofficial.p.rapidapi.com/film/the%20godfather\"\n",
    "\n",
    "headers = {\n",
    "    'x-rapidapi-key': \"adf37987c2mshca6e29f937592dcp19fe7cjsna9f725d0c3a8\",\n",
    "    'x-rapidapi-host': \"imdb-internet-movie-database-unofficial.p.rapidapi.com\"\n",
    "    }\n",
    "\n",
    "response = requests.request(\"GET\", url, headers=headers)\n",
    "\n",
    "print(response.text)"
   ]
  },
  {
   "cell_type": "code",
   "execution_count": null,
   "metadata": {},
   "outputs": [],
   "source": [
    "### link donde se obtuvo la api : https://rapidapi.com/hmerritt/api/imdb-internet-movie-database-unofficial?endpoint=apiendpoint_87760ea6-7bd8-4a18-9339-8a7f7dc681cc"
   ]
  }
 ],
 "metadata": {
  "kernelspec": {
   "display_name": "Python 3",
   "language": "python",
   "name": "python3"
  },
  "language_info": {
   "codemirror_mode": {
    "name": "ipython",
    "version": 3
   },
   "file_extension": ".py",
   "mimetype": "text/x-python",
   "name": "python",
   "nbconvert_exporter": "python",
   "pygments_lexer": "ipython3",
   "version": "3.8.5"
  }
 },
 "nbformat": 4,
 "nbformat_minor": 4
}
