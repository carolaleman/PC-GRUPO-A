{
 "cells": [
  {
   "cell_type": "code",
   "execution_count": 15,
   "metadata": {},
   "outputs": [
    {
     "name": "stdout",
     "output_type": "stream",
     "text": [
      "DATA: {'Articulos Electronicos': [{'Celulares': [{'Nombre': 'Samsung Galaxy A12', 'Cantidad': 8}, {'Nombre': 'Samsung Galaxy A11', 'Cantidad': 10}, {'Nombre': 'Xiaomi Note 10', 'Cantidad': 20}, {'Nombre': 'Xiaomi Redmi 9', 'Cantidad': 20}, {'Nombre': 'Huawei Y8s', 'Cantidad': 25}]}, {'Tablet': [{'Nombre': 'Samsung SM6', 'Cantidad': 10}, {'Nombre': 'Huawei Matepad ', 'Cantidad': 20}, {'Nombre': 'Galaxy Tab A7', 'Cantidad': 30}]}, {'Laptops': [{'Nombre': 'Laptop Gamer GP65 LEOPARD 10SEK', 'Cantidad': 18}, {'Nombre': 'LAPTOP GAMER DELL G5', 'Cantidad': 25}, {'Nombre': 'HP Pavilion Gaming TG01', 'Cantidad': 35}]}, {'Camaras': [{'Nombre': 'Canon T100', 'Cantidad': 15}, {'Nombre': 'Canon T7', 'Cantidad': 36}, {'Nombre': 'Sony WX350', 'Cantidad': 26}]}, {'Mause': [{'Nombre': 'Mause Gamer GAINER M610', 'Cantidad': 40}, {'Nombre': 'Mause Gamer Centrophorus M601', 'Cantidad': 30}, {'Nombre': 'Mause Gamer Cobra M711', 'Cantidad': 50}]}]}\n",
      "JSON: {\"Articulos Electronicos\": [{\"Celulares\": [{\"Nombre\": \"Samsung Galaxy A12\", \"Cantidad\": 8}, {\"Nombre\": \"Samsung Galaxy A11\", \"Cantidad\": 10}, {\"Nombre\": \"Xiaomi Note 10\", \"Cantidad\": 20}, {\"Nombre\": \"Xiaomi Redmi 9\", \"Cantidad\": 20}, {\"Nombre\": \"Huawei Y8s\", \"Cantidad\": 25}]}, {\"Tablet\": [{\"Nombre\": \"Samsung SM6\", \"Cantidad\": 10}, {\"Nombre\": \"Huawei Matepad \", \"Cantidad\": 20}, {\"Nombre\": \"Galaxy Tab A7\", \"Cantidad\": 30}]}, {\"Laptops\": [{\"Nombre\": \"Laptop Gamer GP65 LEOPARD 10SEK\", \"Cantidad\": 18}, {\"Nombre\": \"LAPTOP GAMER DELL G5\", \"Cantidad\": 25}, {\"Nombre\": \"HP Pavilion Gaming TG01\", \"Cantidad\": 35}]}, {\"Camaras\": [{\"Nombre\": \"Canon T100\", \"Cantidad\": 15}, {\"Nombre\": \"Canon T7\", \"Cantidad\": 36}, {\"Nombre\": \"Sony WX350\", \"Cantidad\": 26}]}, {\"Mause\": [{\"Nombre\": \"Mause Gamer GAINER M610\", \"Cantidad\": 40}, {\"Nombre\": \"Mause Gamer Centrophorus M601\", \"Cantidad\": 30}, {\"Nombre\": \"Mause Gamer Cobra M711\", \"Cantidad\": 50}]}]}\n"
     ]
    }
   ],
   "source": [
    "import json\n",
    "\n",
    "data = {\"Articulos Electronicos\": [  {\"Celulares\":   [    {\"Nombre\":\"Samsung Galaxy A12\",\"Cantidad\":8},    {\"Nombre\":\"Samsung Galaxy A11\",\"Cantidad\":10},    {\"Nombre\":\"Xiaomi Note 10\",\"Cantidad\":20},  {\"Nombre\":\"Xiaomi Redmi 9\",\"Cantidad\":20}, {\"Nombre\":\"Huawei Y8s\",\"Cantidad\":25}   ]  },  \n",
    "                       {\"Tablet\":   [    {\"Nombre\":\"Samsung SM6\",\"Cantidad\":10},    {\"Nombre\":\"Huawei Matepad \",\"Cantidad\":20},    {\"Nombre\":\"Galaxy Tab A7\",\"Cantidad\":30}   ]  },\n",
    "                      {\"Laptops\":   [    {\"Nombre\":\"Laptop Gamer GP65 LEOPARD 10SEK\",\"Cantidad\":18},    {\"Nombre\":\"LAPTOP GAMER DELL G5\",\"Cantidad\":25},    {\"Nombre\":\"HP Pavilion Gaming TG01\",\"Cantidad\":35}   ]  },\n",
    "                      {\"Camaras\":   [    {\"Nombre\":\"Canon T100\",\"Cantidad\":15},    {\"Nombre\":\"Canon T7\",\"Cantidad\":36},    {\"Nombre\":\"Sony WX350\",\"Cantidad\":26}   ]  },\n",
    "                      {\"Mause\":   [    {\"Nombre\":\"Mause Gamer GAINER M610\",\"Cantidad\":40},    {\"Nombre\":\"Mause Gamer Centrophorus M601\",\"Cantidad\":30},    {\"Nombre\":\"Mause Gamer Cobra M711\",\"Cantidad\":50}    ]  } ]}\n",
    "\n",
    "#Nos imprime en pantalla data como un tipo de dato nativo.\n",
    "print ('DATA:', repr(data))\n",
    "\n",
    "#Nos devuelve el String con el JSON\n",
    "data_string = json.dumps(data)\n",
    "print ('JSON:', data_string)\n"
   ]
  },
  {
   "cell_type": "code",
   "execution_count": 16,
   "metadata": {},
   "outputs": [
    {
     "name": "stdout",
     "output_type": "stream",
     "text": [
      "ENCODED: {\"Articulos Electronicos\": [{\"Celulares\": [{\"Nombre\": \"Samsung Galaxy A12\", \"Cantidad\": 8}, {\"Nombre\": \"Samsung Galaxy A11\", \"Cantidad\": 10}, {\"Nombre\": \"Xiaomi Note 10\", \"Cantidad\": 20}, {\"Nombre\": \"Xiaomi Redmi 9\", \"Cantidad\": 20}, {\"Nombre\": \"Huawei Y8s\", \"Cantidad\": 25}]}, {\"Tablet\": [{\"Nombre\": \"Samsung SM6\", \"Cantidad\": 10}, {\"Nombre\": \"Huawei Matepad \", \"Cantidad\": 20}, {\"Nombre\": \"Galaxy Tab A7\", \"Cantidad\": 30}]}, {\"Laptops\": [{\"Nombre\": \"Laptop Gamer GP65 LEOPARD 10SEK\", \"Cantidad\": 18}, {\"Nombre\": \"LAPTOP GAMER DELL G5\", \"Cantidad\": 25}, {\"Nombre\": \"HP Pavilion Gaming TG01\", \"Cantidad\": 35}]}, {\"Camaras\": [{\"Nombre\": \"Canon T100\", \"Cantidad\": 15}, {\"Nombre\": \"Canon T7\", \"Cantidad\": 36}, {\"Nombre\": \"Sony WX350\", \"Cantidad\": 26}]}, {\"Mause\": [{\"Nombre\": \"Mause Gamer GAINER M610\", \"Cantidad\": 40}, {\"Nombre\": \"Mause Gamer Centrophorus M601\", \"Cantidad\": 30}, {\"Nombre\": \"Mause Gamer Cobra M711\", \"Cantidad\": 50}]}]}\n",
      "DECODED: {'Articulos Electronicos': [{'Celulares': [{'Nombre': 'Samsung Galaxy A12', 'Cantidad': 8}, {'Nombre': 'Samsung Galaxy A11', 'Cantidad': 10}, {'Nombre': 'Xiaomi Note 10', 'Cantidad': 20}, {'Nombre': 'Xiaomi Redmi 9', 'Cantidad': 20}, {'Nombre': 'Huawei Y8s', 'Cantidad': 25}]}, {'Tablet': [{'Nombre': 'Samsung SM6', 'Cantidad': 10}, {'Nombre': 'Huawei Matepad ', 'Cantidad': 20}, {'Nombre': 'Galaxy Tab A7', 'Cantidad': 30}]}, {'Laptops': [{'Nombre': 'Laptop Gamer GP65 LEOPARD 10SEK', 'Cantidad': 18}, {'Nombre': 'LAPTOP GAMER DELL G5', 'Cantidad': 25}, {'Nombre': 'HP Pavilion Gaming TG01', 'Cantidad': 35}]}, {'Camaras': [{'Nombre': 'Canon T100', 'Cantidad': 15}, {'Nombre': 'Canon T7', 'Cantidad': 36}, {'Nombre': 'Sony WX350', 'Cantidad': 26}]}, {'Mause': [{'Nombre': 'Mause Gamer GAINER M610', 'Cantidad': 40}, {'Nombre': 'Mause Gamer Centrophorus M601', 'Cantidad': 30}, {'Nombre': 'Mause Gamer Cobra M711', 'Cantidad': 50}]}]}\n"
     ]
    }
   ],
   "source": [
    "import json\n",
    "data = {\"Articulos Electronicos\": [  {\"Celulares\":   [    {\"Nombre\":\"Samsung Galaxy A12\",\"Cantidad\":8},    {\"Nombre\":\"Samsung Galaxy A11\",\"Cantidad\":10},    {\"Nombre\":\"Xiaomi Note 10\",\"Cantidad\":20},  {\"Nombre\":\"Xiaomi Redmi 9\",\"Cantidad\":20}, {\"Nombre\":\"Huawei Y8s\",\"Cantidad\":25}   ]  },  \n",
    "                       {\"Tablet\":   [    {\"Nombre\":\"Samsung SM6\",\"Cantidad\":10},    {\"Nombre\":\"Huawei Matepad \",\"Cantidad\":20},    {\"Nombre\":\"Galaxy Tab A7\",\"Cantidad\":30}   ]  },\n",
    "                      {\"Laptops\":   [    {\"Nombre\":\"Laptop Gamer GP65 LEOPARD 10SEK\",\"Cantidad\":18},    {\"Nombre\":\"LAPTOP GAMER DELL G5\",\"Cantidad\":25},    {\"Nombre\":\"HP Pavilion Gaming TG01\",\"Cantidad\":35}   ]  },\n",
    "                      {\"Camaras\":   [    {\"Nombre\":\"Canon T100\",\"Cantidad\":15},    {\"Nombre\":\"Canon T7\",\"Cantidad\":36},    {\"Nombre\":\"Sony WX350\",\"Cantidad\":26}   ]  },\n",
    "                      {\"Mause\":   [    {\"Nombre\":\"Mause Gamer GAINER M610\",\"Cantidad\":40},    {\"Nombre\":\"Mause Gamer Centrophorus M601\",\"Cantidad\":30},    {\"Nombre\":\"Mause Gamer Cobra M711\",\"Cantidad\":50}  ]  } ]}\n"
   ]
  },
  {
   "cell_type": "code",
   "execution_count": 40,
   "metadata": {},
   "outputs": [
    {
     "name": "stdout",
     "output_type": "stream",
     "text": [
      "Tenemos 8 Samsung Galaxy A12\n",
      "Tenemos 10 Samsung Galaxy A11\n",
      "Tenemos 20 Xiaomi Note 10\n",
      "Tenemos 20 Xiaomi Redmi 9\n",
      "Tenemos 25 Huawei Y8s\n",
      "Tenemos 10 Samsung SM6\n",
      "Tenemos 20 Huawei Matepad \n",
      "Tenemos 30 Galaxy Tab A7\n",
      "Tenemos 18 Laptop Gamer GP65 LEOPARD 10SEK\n",
      "Tenemos 25 LAPTOP GAMER DELL G5\n",
      "Tenemos 35 HP Pavilion Gaming TG01\n",
      "Tenemos 15 Canon T100\n",
      "Tenemos 36 Canon T7\n",
      "Tenemos 26 Sony WX350\n",
      "Tenemos 40 Mause Gamer GAINER M610\n",
      "Tenemos 30 Mause Gamer Centrophorus M601\n",
      "Tenemos 50 Mause Gamer Cobra M711\n"
     ]
    }
   ],
   "source": [
    "import json\n",
    "data = {\"Articulos Electronicos\": [  {\"Celulares\":   [    {\"Nombre\":\"Samsung Galaxy A12\",\"Cantidad\":8},    {\"Nombre\":\"Samsung Galaxy A11\",\"Cantidad\":10},    {\"Nombre\":\"Xiaomi Note 10\",\"Cantidad\":20},  {\"Nombre\":\"Xiaomi Redmi 9\",\"Cantidad\":20}, {\"Nombre\":\"Huawei Y8s\",\"Cantidad\":25}   ]  },  \n",
    "                       {\"Tablet\":   [    {\"Nombre\":\"Samsung SM6\",\"Cantidad\":10},    {\"Nombre\":\"Huawei Matepad \",\"Cantidad\":20},    {\"Nombre\":\"Galaxy Tab A7\",\"Cantidad\":30}   ]  },\n",
    "                      {\"Laptops\":   [    {\"Nombre\":\"Laptop Gamer GP65 LEOPARD 10SEK\",\"Cantidad\":18},    {\"Nombre\":\"LAPTOP GAMER DELL G5\",\"Cantidad\":25},    {\"Nombre\":\"HP Pavilion Gaming TG01\",\"Cantidad\":35}   ]  },\n",
    "                      {\"Camaras\":   [    {\"Nombre\":\"Canon T100\",\"Cantidad\":15},    {\"Nombre\":\"Canon T7\",\"Cantidad\":36},    {\"Nombre\":\"Sony WX350\",\"Cantidad\":26}   ]  },\n",
    "                      {\"Mause\":   [    {\"Nombre\":\"Mause Gamer GAINER M610\",\"Cantidad\":40},    {\"Nombre\":\"Mause Gamer Centrophorus M601\",\"Cantidad\":30},    {\"Nombre\":\"Mause Gamer Cobra M711\",\"Cantidad\":50}  ]  } ]}\n",
    "#encoded\n",
    "data_string = json.dumps(data)\n",
    "\n",
    "#Decoded\n",
    "decoded = json.loads(data_string)\n",
    "\n",
    "#print(data)\n",
    "#print(type(data))\n",
    "#print(data.keys())\n",
    "cel = [\"Samsung Galaxy A12\",\"Samsung Galaxy A11\",\"Xiaomi Note 10\",\"Xiaomi Redmi 9\",\"Huawei Y8s\"]\n",
    "\n",
    "i=0\n",
    "while i<5:\n",
    "    print (\"Tenemos \"+str(decoded[\"Articulos Electronicos\"][0][\"Celulares\"][i][\"Cantidad\"])+\" \"+cel[i])\n",
    "    i += 1\n",
    "    \n",
    "table = [\"Samsung SM6\", \"Huawei Matepad \", \"Galaxy Tab A7\"]\n",
    "\n",
    "i=0\n",
    "while i<3:\n",
    "    print (\"Tenemos \"+str(decoded[\"Articulos Electronicos\"][1][\"Tablet\"][i][\"Cantidad\"])+\" \"+table[i])\n",
    "    i += 1\n",
    "lap = [\"Laptop Gamer GP65 LEOPARD 10SEK\",\"LAPTOP GAMER DELL G5\", \"HP Pavilion Gaming TG01\" ]\n",
    "\n",
    "i=0\n",
    "while i<3:\n",
    "    print (\"Tenemos \"+str(decoded[\"Articulos Electronicos\"][2][\"Laptops\"][i][\"Cantidad\"])+\" \"+lap[i])\n",
    "    i += 1\n",
    "\n",
    "cam = [\"Canon T100\", \"Canon T7\", \"Sony WX350\" ]\n",
    "\n",
    "i=0\n",
    "while i<3:\n",
    "    print (\"Tenemos \"+str(decoded[\"Articulos Electronicos\"][3][\"Camaras\"][i][\"Cantidad\"])+\" \"+cam[i])\n",
    "    i += 1\n",
    "\n",
    "maus = [\"Mause Gamer GAINER M610\", \"Mause Gamer Centrophorus M601\", \"Mause Gamer Cobra M711\" ]\n",
    "\n",
    "i=0\n",
    "while i<3:\n",
    "    print (\"Tenemos \"+str(decoded[\"Articulos Electronicos\"][4][\"Mause\"][i][\"Cantidad\"])+\" \"+maus[i])\n",
    "    i += 1\n"
   ]
  },
  {
   "cell_type": "code",
   "execution_count": null,
   "metadata": {},
   "outputs": [],
   "source": []
  }
 ],
 "metadata": {
  "kernelspec": {
   "display_name": "Python 3",
   "language": "python",
   "name": "python3"
  },
  "language_info": {
   "codemirror_mode": {
    "name": "ipython",
    "version": 3
   },
   "file_extension": ".py",
   "mimetype": "text/x-python",
   "name": "python",
   "nbconvert_exporter": "python",
   "pygments_lexer": "ipython3",
   "version": "3.8.5"
  }
 },
 "nbformat": 4,
 "nbformat_minor": 4
}
