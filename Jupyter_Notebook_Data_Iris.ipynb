{
 "cells": [
  {
   "cell_type": "markdown",
   "metadata": {},
   "source": [
    "#  <center style=\"color:black;\"><u>Data Iris</u></center>\n",
    "\n",
    "![Iris](https://www.math.umd.edu/~petersd/666/html/iris_with_labels.jpg)\n",
    "\n",
    "Iris es un género de plantas rizomatosas de la familia Iridaceae. El mayor género de la familia con más de 300 especies, además de muchos híbridos y cultivares. Además del nombre del género, iris se usa comúnmente para referirse a todas las especies, así como a otros varios géneros estrechamente emparentados y a una subdivisión dentro del género.\n",
    "\n",
    "\n",
    "El conjunto de datos flor Iris o conjunto de datos iris de Fisher es un conjunto de datos multivariante introducido por <i><b><a href=\"https://es.wikipedia.org/wiki/Ronald_Fisher\"><span style=\"color:Blue;\">Ronald Fisher</span></a></b></i> en su artículo de 1936.\n",
    "\n",
    "##  <center style=\"color:black;\"><u>Ronald Fisher</u></center>\n",
    "\n",
    "![Fisher](https://www.biografiasyvidas.com/biografia/f/fotos/fisher_ronald.jpg)\n",
    "\n",
    "A veces, se llama \"Iris conjunto de datos de Anderson\" porque <i><b><a href=\"https://es.wikipedia.org/wiki/Edgar_Shannon_Anderson\"><span style=\"color:Blue;\">Edgar Anderson</span></a></b></i>coleccionó los datos para cuantificar la variación morfológica de la flor Iris de tres especies relacionadas(dos de las tres especies se coleccionaron en la Península de la Gaspesia)\n",
    "El conjunto de datos contiene 50 muestras de cada una de tres especies de Iris(Iris setosa, Iris virginica e Iris versicolor).\n",
    "\n",
    "|        Clase      | N°Muestras|\n",
    "|:------------------|:---------:|\n",
    "| Iris setosa       |     50    |\n",
    "|Iris virginica     |     50    | \n",
    "|Iris versicolor    |     50    | \n",
    "\n",
    "\n",
    "Se midió cuatro rasgos de cada muestra:\n",
    "1. <u>_Longitud del sépalo_</u>\n",
    "2. <u>_Ancho del sépalo_</u>\n",
    "3. <u>_Longitud del pétalo_</u>\n",
    "4. <u>_Ancho del pétalo_</u>\n",
    "\n",
    "Basado en la combinación de estos cuatro rasgos, Fisher desarrolló un modelo discriminante lineal para distinguir entre una especie y otra.\n",
    "\n",
    "Basado en el modelo análisis discriminante de Fisher, este conjunto de datos se convirtió en un caso de prueba típico por muchas técnicas clasificaciones estadísticas en aprendizaje automático como en máquinas de vectores de soporte. Sin embargo, el uso de este conjunto de datos en algoritmos de agrupamiento no es común porque el conjunto de datos solo contiene dos racimos, con una separación obvia y clara. Uno de los racimos contiene Iris setosa, mientras el otro contiene ambos Iris virginica y Iris versicolor y no es separable sino que uno tiene la información de especies usadas por Fisher. Esto hace el conjunto de datos un ejemplo bueno para explicar la diferencia entre técnicas que se supervisan o no en la minería de datos: El modelo análisis discriminante solo se puede obtener cuando la especie objeta se conoce: etiquetas de clase y racimos no son siempre lo mismo.\n",
    "\n",
    "-------------------------------------------------------------------------------------------------------------------------------\n",
    "## Bibliografía\n",
    "\n",
    "1. <i><b><a href=\"https://es.wikipedia.org/wiki/Conjunto_de_datos_flor_iris\"><span style=\"color:DarkGreen;\">Flor Iris</span></a></b></i>\n",
    "2. <i><b><a href=\"https://archive.ics.uci.edu/ml/datasets/Iris\"><span style=\"color:DarkGreen;\">Data Iris</span></a></b></i>\n",
    "3.<i><b><a href=\"http://biostor.org/reference/11559\"><span style=\"color:DarkGreen;\">Especies Iris</span></a></b></i>"
   ]
  }
 ],
 "metadata": {
  "kernelspec": {
   "display_name": "Python 3",
   "language": "python",
   "name": "python3"
  },
  "language_info": {
   "codemirror_mode": {
    "name": "ipython",
    "version": 3
   },
   "file_extension": ".py",
   "mimetype": "text/x-python",
   "name": "python",
   "nbconvert_exporter": "python",
   "pygments_lexer": "ipython3",
   "version": "3.8.5"
  }
 },
 "nbformat": 4,
 "nbformat_minor": 4
}
